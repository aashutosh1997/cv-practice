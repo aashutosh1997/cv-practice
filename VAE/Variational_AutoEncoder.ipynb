{
 "cells": [
  {
   "cell_type": "markdown",
   "metadata": {},
   "source": [
    "# Implementation of Variational AutoEncoder (VAE)\n",
    "\n",
    "     VAE from \"Auto-Encoding Variational Bayes\" (2014, D.P. Kingma et. al.)\n",
    "    \n",
    "     Kernel-author: Jackson Kang @ Deep-learning Lab. (Handong Global University, S.Korea)\n",
    "     \n",
    "     Author-email:  mskang@handong.edu\n",
    "\n",
    "     python and pytorch version: python=3.7, pytorch=1.3.1"
   ]
  },
  {
   "cell_type": "code",
   "execution_count": 2,
   "metadata": {},
   "outputs": [],
   "source": [
    "import torch\n",
    "import torch.nn as nn\n",
    "\n",
    "import numpy as np\n",
    "\n",
    "from tqdm import tqdm\n",
    "from torchvision.utils import save_image, make_grid"
   ]
  },
  {
   "cell_type": "code",
   "execution_count": 3,
   "metadata": {},
   "outputs": [],
   "source": [
    "# Model Hyperparameters\n",
    "\n",
    "dataset_path = '~/datasets'\n",
    "\n",
    "cuda = True\n",
    "DEVICE = torch.device(\"cuda\" if cuda else \"cpu\")\n",
    "\n",
    "\n",
    "batch_size = 100\n",
    "\n",
    "x_dim  = 784\n",
    "hidden_dim = 400\n",
    "latent_dim = 200\n",
    "\n",
    "lr = 1e-3\n",
    "\n",
    "epochs = 30"
   ]
  },
  {
   "cell_type": "markdown",
   "metadata": {},
   "source": [
    "###    Step 1. Load (or download) Dataset"
   ]
  },
  {
   "cell_type": "code",
   "execution_count": 4,
   "metadata": {},
   "outputs": [],
   "source": [
    "from torchvision.datasets import MNIST\n",
    "import torchvision.transforms as transforms\n",
    "from torch.utils.data import DataLoader\n",
    "\n",
    "\n",
    "class ReshapeTransform:\n",
    "    def __init__(self, new_shape):\n",
    "        self.new_shape = new_shape\n",
    "\n",
    "    def __call__(self, img):\n",
    "        return img.view(*self.new_shape)\n",
    "\n",
    "mnist_transform = transforms.Compose([\n",
    "    transforms.ToTensor(),\n",
    "    ReshapeTransform((1, 28, 28))\n",
    "])\n",
    "\n",
    "kwargs = {'num_workers': 1, 'pin_memory': True} \n",
    "\n",
    "train_dataset = MNIST(dataset_path, transform=mnist_transform, train=True, download=True)\n",
    "test_dataset  = MNIST(dataset_path, transform=mnist_transform, train=False, download=True)\n",
    "\n",
    "train_loader = DataLoader(dataset=train_dataset, batch_size=batch_size, shuffle=True, **kwargs)\n",
    "test_loader  = DataLoader(dataset=test_dataset,  batch_size=batch_size, shuffle=False, **kwargs)"
   ]
  },
  {
   "cell_type": "markdown",
   "metadata": {},
   "source": [
    "### Step 2. Define our model: Variational AutoEncoder (VAE)"
   ]
  },
  {
   "cell_type": "code",
   "execution_count": 4,
   "metadata": {},
   "outputs": [],
   "source": [
    "class ConvEncoder(nn.Module):\n",
    "    def __init__(self, input_channels, hidden_dim, latent_dim):\n",
    "        super(ConvEncoder, self).__init__()\n",
    "        self.conv1 = nn.Conv2d(input_channels, 32, kernel_size=3, stride=1, padding=1)  # Output: [32, 28, 28]\n",
    "        self.conv2 = nn.Conv2d(32, 64, kernel_size=3, stride=1, padding=1)             # Output: [64, 28, 28]\n",
    "        self.conv3 = nn.Conv2d(64, 128, kernel_size=3, stride=1, padding=1)            # Output: [128, 28, 28]\n",
    "        self.conv4 = nn.Conv2d(128, hidden_dim, kernel_size=3, stride=1, padding=1)    # Output: [hidden_dim, 28, 28]\n",
    "        \n",
    "        self.pool = nn.MaxPool2d(2, 2)  # Pool size 2x2\n",
    "\n",
    "        # Convolutional layers to map to latent dimensions\n",
    "        self.conv_mean = nn.Conv2d(hidden_dim, latent_dim, kernel_size=3, stride=1, padding=1)\n",
    "        self.conv_var = nn.Conv2d(hidden_dim, latent_dim, kernel_size=3, stride=1, padding=1)\n",
    "\n",
    "        self.LeakyReLU = nn.LeakyReLU(0.2)\n",
    "        self.avgpool = nn.AdaptiveAvgPool2d((1, 1))  # Global average pooling\n",
    "\n",
    "    def forward(self, x):\n",
    "        h = self.LeakyReLU(self.conv1(x))\n",
    "        h = self.pool(h)  # Output: [batch_size, 32, 14, 14]\n",
    "        h = self.LeakyReLU(self.conv2(h))\n",
    "        h = self.pool(h)  # Output: [batch_size, 64, 7, 7]\n",
    "        h = self.LeakyReLU(self.conv3(h))\n",
    "        h = self.pool(h)  # Output: [batch_size, 128, 3, 3]\n",
    "        h = self.LeakyReLU(self.conv4(h))\n",
    "        h = self.pool(h)  # Output: [batch_size, hidden_dim, 1, 1]\n",
    "\n",
    "        # Mean and log variance layers\n",
    "        mean = self.avgpool(self.conv_mean(h))  # Output: [batch_size, latent_dim, 1, 1]\n",
    "        log_var = self.avgpool(self.conv_var(h))  # Output: [batch_size, latent_dim, 1, 1]\n",
    "\n",
    "        mean = mean.squeeze(-1).squeeze(-1)  # Remove last two dimensions\n",
    "        log_var = log_var.squeeze(-1).squeeze(-1)  # Remove last two dimensions\n",
    "\n",
    "        return mean, log_var"
   ]
  },
  {
   "cell_type": "code",
   "execution_count": 5,
   "metadata": {},
   "outputs": [],
   "source": [
    "class ConvDecoder(nn.Module):\n",
    "    def __init__(self, latent_dim, hidden_dim, output_channels):\n",
    "        super(ConvDecoder, self).__init__()\n",
    "        self.fc = nn.Linear(latent_dim, hidden_dim * 7 * 7)  # Output size 7x7 before deconv layers\n",
    "        \n",
    "        # Adjust the conv transpose layers to ensure the output size matches the input size\n",
    "        self.deconv1 = nn.ConvTranspose2d(hidden_dim, 128, kernel_size=3, stride=2, padding=1, output_padding=1)  # Output: [128, 14, 14]\n",
    "        self.deconv2 = nn.ConvTranspose2d(128, 64, kernel_size=3, stride=2, padding=1, output_padding=1)         # Output: [64, 28, 28]\n",
    "        self.deconv3 = nn.ConvTranspose2d(64, 32, kernel_size=3, stride=1, padding=1)  # Output: [32, 28, 28]\n",
    "        self.deconv4 = nn.ConvTranspose2d(32, output_channels, kernel_size=3, stride=1, padding=1)  # Output: [1, 28, 28]\n",
    "        \n",
    "        self.LeakyReLU = nn.LeakyReLU(0.2)\n",
    "\n",
    "    def forward(self, x):\n",
    "        h = self.LeakyReLU(self.fc(x))\n",
    "        h = h.view(h.size(0), -1, 7, 7)  # Reshape to [batch_size, hidden_dim, 7, 7]\n",
    "        h = self.LeakyReLU(self.deconv1(h))  # [batch_size, 128, 14, 14]\n",
    "        h = self.LeakyReLU(self.deconv2(h))  # [batch_size, 64, 28, 28]\n",
    "        h = self.LeakyReLU(self.deconv3(h))  # [batch_size, 32, 28, 28]\n",
    "        x_hat = torch.sigmoid(self.deconv4(h))  # [batch_size, output_channels, 28, 28]\n",
    "        return x_hat"
   ]
  },
  {
   "cell_type": "code",
   "execution_count": 6,
   "metadata": {},
   "outputs": [],
   "source": [
    "class ConvVAE(nn.Module):\n",
    "    def __init__(self, Encoder, Decoder):\n",
    "        super(ConvVAE, self).__init__()\n",
    "        self.Encoder = Encoder\n",
    "        self.Decoder = Decoder\n",
    "        \n",
    "    def reparameterization(self, mean, var):\n",
    "        epsilon = torch.randn_like(var).to(DEVICE)\n",
    "        z = mean + var * epsilon\n",
    "        return z\n",
    "        \n",
    "    def forward(self, x):\n",
    "        mean, log_var = self.Encoder(x)\n",
    "        z = self.reparameterization(mean, torch.exp(0.5 * log_var))\n",
    "        x_hat = self.Decoder(z)\n",
    "        return x_hat, mean, log_var"
   ]
  },
  {
   "cell_type": "code",
   "execution_count": 7,
   "metadata": {},
   "outputs": [],
   "source": [
    "input_channels = 1  # For grayscale images, change to 3 for RGB\n",
    "encoder = ConvEncoder(input_channels=input_channels, hidden_dim=hidden_dim, latent_dim=latent_dim)\n",
    "decoder = ConvDecoder(latent_dim=latent_dim, hidden_dim=hidden_dim, output_channels=input_channels)\n",
    "\n",
    "model = ConvVAE(Encoder=encoder, Decoder=decoder).to(DEVICE)"
   ]
  },
  {
   "cell_type": "markdown",
   "metadata": {},
   "source": [
    "### Step 3. Define Loss function (reprod. loss) and optimizer"
   ]
  },
  {
   "cell_type": "code",
   "execution_count": 8,
   "metadata": {},
   "outputs": [],
   "source": [
    "from torch.optim import Adam\n",
    "\n",
    "BCE_loss = nn.BCELoss()\n",
    "\n",
    "def loss_function(x, x_hat, mean, log_var):\n",
    "    reproduction_loss = nn.functional.binary_cross_entropy(x_hat, x, reduction='sum')\n",
    "    KLD      = - 0.5 * torch.sum(1+ log_var - mean.pow(2) - log_var.exp())\n",
    "\n",
    "    return reproduction_loss + KLD\n",
    "\n",
    "\n",
    "optimizer = Adam(model.parameters(), lr=lr)"
   ]
  },
  {
   "cell_type": "markdown",
   "metadata": {},
   "source": [
    "### Step 4. Train Variational AutoEncoder (VAE)"
   ]
  },
  {
   "cell_type": "code",
   "execution_count": 9,
   "metadata": {
    "scrolled": false
   },
   "outputs": [
    {
     "name": "stdout",
     "output_type": "stream",
     "text": [
      "Start training VAE...\n"
     ]
    },
    {
     "name": "stdout",
     "output_type": "stream",
     "text": [
      "\tEpoch 1 complete! \tAverage Loss:  168.9449654534902\n",
      "\tEpoch 2 complete! \tAverage Loss:  118.72842235431449\n",
      "\tEpoch 3 complete! \tAverage Loss:  108.39038532645556\n",
      "\tEpoch 4 complete! \tAverage Loss:  105.24831044905572\n",
      "\tEpoch 5 complete! \tAverage Loss:  103.41187509781928\n",
      "\tEpoch 6 complete! \tAverage Loss:  102.1296757127765\n",
      "\tEpoch 7 complete! \tAverage Loss:  101.37415021128965\n",
      "\tEpoch 8 complete! \tAverage Loss:  100.56225866352776\n",
      "\tEpoch 9 complete! \tAverage Loss:  99.97503148150564\n",
      "\tEpoch 10 complete! \tAverage Loss:  99.40392457481218\n",
      "\tEpoch 11 complete! \tAverage Loss:  99.05941199199187\n",
      "\tEpoch 12 complete! \tAverage Loss:  98.61508821668927\n",
      "\tEpoch 13 complete! \tAverage Loss:  98.2913705296588\n",
      "\tEpoch 14 complete! \tAverage Loss:  97.89346629147538\n",
      "\tEpoch 15 complete! \tAverage Loss:  97.61287552822412\n",
      "\tEpoch 16 complete! \tAverage Loss:  97.29690961172267\n",
      "\tEpoch 17 complete! \tAverage Loss:  96.98543906184787\n",
      "\tEpoch 18 complete! \tAverage Loss:  96.75396119183013\n",
      "\tEpoch 19 complete! \tAverage Loss:  96.58149821642843\n",
      "\tEpoch 20 complete! \tAverage Loss:  96.27365253938856\n",
      "\tEpoch 21 complete! \tAverage Loss:  96.16144219858619\n",
      "\tEpoch 22 complete! \tAverage Loss:  95.89325205094428\n",
      "\tEpoch 23 complete! \tAverage Loss:  95.72581031863001\n",
      "\tEpoch 24 complete! \tAverage Loss:  95.53652782306449\n",
      "\tEpoch 25 complete! \tAverage Loss:  95.42372169762103\n",
      "\tEpoch 26 complete! \tAverage Loss:  95.28947187369575\n",
      "\tEpoch 27 complete! \tAverage Loss:  95.1112486794397\n",
      "\tEpoch 28 complete! \tAverage Loss:  94.99149539597245\n",
      "\tEpoch 29 complete! \tAverage Loss:  94.82365478923205\n",
      "\tEpoch 30 complete! \tAverage Loss:  94.67294348001879\n",
      "Finish!!\n"
     ]
    }
   ],
   "source": [
    "print(\"Start training VAE...\")\n",
    "model.train()\n",
    "\n",
    "for epoch in range(epochs):\n",
    "    overall_loss = 0\n",
    "    for batch_idx, (x, _) in enumerate(train_loader):\n",
    "        # x = x.view(batch_size, x_dim)\n",
    "        x = x.to(DEVICE)\n",
    "\n",
    "        optimizer.zero_grad()\n",
    "\n",
    "        x_hat, mean, log_var = model(x)\n",
    "        print(x)\n",
    "        loss = loss_function(x, x_hat, mean, log_var)\n",
    "        \n",
    "        overall_loss += loss.item()\n",
    "        \n",
    "        loss.backward()\n",
    "        optimizer.step()\n",
    "        \n",
    "    print(\"\\tEpoch\", epoch + 1, \"complete!\", \"\\tAverage Loss: \", overall_loss / (batch_idx*batch_size))\n",
    "    \n",
    "print(\"Finish!!\")"
   ]
  },
  {
   "cell_type": "markdown",
   "metadata": {},
   "source": [
    "### Step 5. Generate images from test dataset"
   ]
  },
  {
   "cell_type": "code",
   "execution_count": 10,
   "metadata": {},
   "outputs": [],
   "source": [
    "import matplotlib.pyplot as plt"
   ]
  },
  {
   "cell_type": "code",
   "execution_count": 12,
   "metadata": {},
   "outputs": [
    {
     "name": "stderr",
     "output_type": "stream",
     "text": [
      "  0%|          | 0/100 [00:00<?, ?it/s]\n"
     ]
    }
   ],
   "source": [
    "model.eval()\n",
    "\n",
    "with torch.no_grad():\n",
    "    for batch_idx, (x, _) in enumerate(tqdm(test_loader)):\n",
    "        # x = x.view(batch_size, x_dim)\n",
    "        x = x.to(DEVICE)\n",
    "        \n",
    "        x_hat, _, _ = model(x)\n",
    "\n",
    "\n",
    "        break"
   ]
  },
  {
   "cell_type": "code",
   "execution_count": 13,
   "metadata": {},
   "outputs": [],
   "source": [
    "def show_image(x, idx):\n",
    "    x = x.view(batch_size, 28, 28)\n",
    "\n",
    "    fig = plt.figure()\n",
    "    plt.imshow(x[idx].cpu().numpy())"
   ]
  },
  {
   "cell_type": "code",
   "execution_count": 14,
   "metadata": {
    "scrolled": true
   },
   "outputs": [
    {
     "data": {
      "image/png": "[encoded data removed]",
      "text/plain": [
       "<Figure size 640x480 with 1 Axes>"
      ]
     },
     "metadata": {},
     "output_type": "display_data"
    }
   ],
   "source": [
    "show_image(x, idx=0)"
   ]
  },
  {
   "cell_type": "code",
   "execution_count": 15,
   "metadata": {},
   "outputs": [
    {
     "data": {
      "image/png": "[encoded data removed]",
      "text/plain": [
       "<Figure size 640x480 with 1 Axes>"
      ]
     },
     "metadata": {},
     "output_type": "display_data"
    }
   ],
   "source": [
    "show_image(x_hat, idx=0)"
   ]
  },
  {
   "cell_type": "markdown",
   "metadata": {},
   "source": [
    "### Step 6. Generate image from noise vector"
   ]
  },
  {
   "cell_type": "markdown",
   "metadata": {},
   "source": [
    "**Please note that this is not the correct generative process.**\n",
    "\n",
    "* Even if we don't know exact p(z|x), we can generate images from noise, since the loss function of training VAE regulates the q(z|x) (simple and tractable posteriors) must close enough to N(0, I). If q(z|x) is close to N(0, I) \"enough\"(but not tightly close due to posterior collapse problem), N(0, I) may replace the encoder of VAE.\n",
    "\n",
    "* To show this, I just tested with a noise vector sampled from N(0, I) similar with Generative Adversarial Network."
   ]
  },
  {
   "cell_type": "code",
   "execution_count": 16,
   "metadata": {},
   "outputs": [],
   "source": [
    "with torch.no_grad():\n",
    "    noise = torch.randn(batch_size, latent_dim).to(DEVICE)\n",
    "    generated_images = decoder(noise)"
   ]
  },
  {
   "cell_type": "code",
   "execution_count": 17,
   "metadata": {},
   "outputs": [],
   "source": [
    "save_image(generated_images.view(batch_size, 1, 28, 28), 'generated_sample.png')"
   ]
  },
  {
   "cell_type": "code",
   "execution_count": 18,
   "metadata": {},
   "outputs": [
    {
     "data": {
      "image/png": "[encoded data removed]",
      "text/plain": [
       "<Figure size 640x480 with 1 Axes>"
      ]
     },
     "metadata": {},
     "output_type": "display_data"
    }
   ],
   "source": [
    "show_image(generated_images, idx=12)"
   ]
  },
  {
   "cell_type": "code",
   "execution_count": 19,
   "metadata": {},
   "outputs": [
    {
     "data": {
      "image/png": "[encoded data removed]",
      "text/plain": [
       "<Figure size 640x480 with 1 Axes>"
      ]
     },
     "metadata": {},
     "output_type": "display_data"
    }
   ],
   "source": [
    "show_image(generated_images, idx=0)"
   ]
  },
  {
   "cell_type": "code",
   "execution_count": 20,
   "metadata": {},
   "outputs": [
    {
     "data": {
      "image/png": "[encoded data removed]",
      "text/plain": [
       "<Figure size 640x480 with 1 Axes>"
      ]
     },
     "metadata": {},
     "output_type": "display_data"
    }
   ],
   "source": [
    "show_image(generated_images, idx=1)"
   ]
  },
  {
   "cell_type": "code",
   "execution_count": 21,
   "metadata": {},
   "outputs": [
    {
     "data": {
      "image/png": "[encoded data removed]",
      "text/plain": [
       "<Figure size 640x480 with 1 Axes>"
      ]
     },
     "metadata": {},
     "output_type": "display_data"
    }
   ],
   "source": [
    "show_image(generated_images, idx=10)"
   ]
  },
  {
   "cell_type": "code",
   "execution_count": 22,
   "metadata": {},
   "outputs": [
    {
     "data": {
      "image/png": "[encoded data removed]",
      "text/plain": [
       "<Figure size 640x480 with 1 Axes>"
      ]
     },
     "metadata": {},
     "output_type": "display_data"
    }
   ],
   "source": [
    "show_image(generated_images, idx=20)"
   ]
  },
  {
   "cell_type": "code",
   "execution_count": 23,
   "metadata": {},
   "outputs": [
    {
     "data": {
      "image/png": "[encoded data removed]",
      "text/plain": [
       "<Figure size 640x480 with 1 Axes>"
      ]
     },
     "metadata": {},
     "output_type": "display_data"
    }
   ],
   "source": [
    "show_image(generated_images, idx=50)"
   ]
  },
  {
   "cell_type": "code",
   "execution_count": null,
   "metadata": {},
   "outputs": [],
   "source": []
  }
 ],
 "metadata": {
  "kernelspec": {
   "display_name": "Python 3",
   "language": "python",
   "name": "python3"
  },
  "language_info": {
   "codemirror_mode": {
    "name": "ipython",
    "version": 3
   },
   "file_extension": ".py",
   "mimetype": "text/x-python",
   "name": "python",
   "nbconvert_exporter": "python",
   "pygments_lexer": "ipython3",
   "version": "3.10.12"
  }
 },
 "nbformat": 4,
 "nbformat_minor": 2
}
